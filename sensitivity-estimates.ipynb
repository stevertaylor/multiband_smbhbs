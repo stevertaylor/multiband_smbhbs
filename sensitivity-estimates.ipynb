{
 "cells": [
  {
   "cell_type": "markdown",
   "id": "280990c8-ec31-41d2-992e-c33a63c227d3",
   "metadata": {},
   "source": [
    "Alexander W. Criswell 9/17/25\n",
    "\n",
    "Notebook to test single-pulsar sensitivity estimates for the phased-array approach to multiband detection."
   ]
  },
  {
   "cell_type": "code",
   "execution_count": 34,
   "id": "b4cdb36b-eeab-4a2d-86b3-e160b6922dd9",
   "metadata": {},
   "outputs": [],
   "source": [
    "import numpy as np\n",
    "import scipy.linalg as sl\n",
    "import matplotlib.pyplot as plt\n",
    "import glob, pickle, json\n",
    "import healpy as hp\n",
    "import hasasia.sensitivity as hsen\n",
    "import hasasia.sim as hsim\n",
    "import hasasia.skymap as hsky\n",
    "import os; os.environ['TEMPO2'] = '/home/awc/.local/share/mamba/envs/gwenv-1/share/tempo2'\n",
    "from enterprise.pulsar import Pulsar as ePulsar"
   ]
  },
  {
   "cell_type": "markdown",
   "id": "f9739657-5b0e-4687-80ac-ccdc48761bfc",
   "metadata": {},
   "source": [
    "We're using the IPTA DR3-like dataset developed by Polina Petrov and Levi Schult:"
   ]
  },
  {
   "cell_type": "markdown",
   "id": "14899263-311c-4f32-a286-c1793b20e4e5",
   "metadata": {},
   "source": [
    "The following paths point to the location of the data files (tim), parameter files (par) and noise files. "
   ]
  },
  {
   "cell_type": "code",
   "execution_count": 4,
   "id": "4c351e64-38ad-4e6d-8dce-956098c75729",
   "metadata": {},
   "outputs": [],
   "source": [
    "pardir = '/datadisk/data/NANOGrav/ipta_dr3_like/'\n",
    "timdir = '/datadisk/data/NANOGrav/ipta_dr3_like/'\n",
    "# noise_dir = '/Users/hazboun/GoogleDrive/NANOGrav_Detection/11yr_stochastic_analysis'\n",
    "noise_dir = '/datadisk/data/NANOGrav/ipta_dr3_like/'\n",
    "pars = sorted(glob.glob(pardir+'*.par'))\n",
    "tims = sorted(glob.glob(timdir+'*.tim'))\n",
    "noise_files = [noise_dir+'all_pulsar_IRN.json'] #sorted(glob.glob(noise_dir+'*.json'))"
   ]
  },
  {
   "cell_type": "code",
   "execution_count": 5,
   "id": "2e8f1f65-8044-4d65-8aab-2922622e070f",
   "metadata": {},
   "outputs": [
    {
     "data": {
      "text/plain": [
       "(1, 116, 116)"
      ]
     },
     "execution_count": 5,
     "metadata": {},
     "output_type": "execute_result"
    }
   ],
   "source": [
    "len(noise_files), len(pars), len(tims)"
   ]
  },
  {
   "cell_type": "markdown",
   "id": "137ad997-6b01-4bbf-a403-48e18081015a",
   "metadata": {},
   "source": [
    "Here we collate the noise parameters into one large dictionary."
   ]
  },
  {
   "cell_type": "code",
   "execution_count": 6,
   "id": "c803f777-12fe-48af-a4dc-36071e4debff",
   "metadata": {},
   "outputs": [],
   "source": [
    "rnoise = {}\n",
    "\n",
    "for nf in noise_files:\n",
    "    with open(nf,'r') as fin:\n",
    "        rnoise.update(json.load(fin))"
   ]
  },
  {
   "cell_type": "code",
   "execution_count": 7,
   "id": "f69dab1b-4238-4305-a8d0-5ecc0b6ac4fe",
   "metadata": {},
   "outputs": [
    {
     "data": {
      "text/plain": [
       "{'B1855+09': {'log10_A': -15.99647656746853, 'gamma': 3.5396469439334792},\n",
       " 'B1937+21': {'log10_A': -13.463605830493172, 'gamma': 3.374032874115919},\n",
       " 'B1953+29': {'log10_A': -13.002302769035374, 'gamma': 2.5736345755399452},\n",
       " 'J0023+0923': {'log10_A': -13.241974156069762, 'gamma': 0.46760456143188645},\n",
       " 'J0030+0451': {'log10_A': -16.049634395288948, 'gamma': 4.155434498262419},\n",
       " 'J0340+4130': {'log10_A': -16.898237941228622, 'gamma': 3.26486627714507},\n",
       " 'J0613-0200': {'log10_A': -13.618259822053759, 'gamma': 1.9494203530647316},\n",
       " 'J0636+5128': {'log10_A': -13.410596521398292, 'gamma': 1.0565090211902983},\n",
       " 'J0645+5158': {'log10_A': -17.117127871059605, 'gamma': 3.2348280360630493},\n",
       " 'J0740+6620': {'log10_A': -16.84905967304969, 'gamma': 3.345698406975421},\n",
       " 'J0931-1902': {'log10_A': -16.74290521185594, 'gamma': 3.286168819612569},\n",
       " 'J1012+5307': {'log10_A': -12.799780392300217, 'gamma': 1.2630304434221191},\n",
       " 'J1024-0719': {'log10_A': -15.704921441426094, 'gamma': 2.4567633960459974},\n",
       " 'J1125+7819': {'log10_A': -12.615659368474796, 'gamma': 0.764560852102359},\n",
       " 'J1453+1902': {'log10_A': -16.674959580035885, 'gamma': 3.336803628929599},\n",
       " 'J1455-3330': {'log10_A': -16.999592285947877, 'gamma': 3.0469967260032718},\n",
       " 'J1600-3053': {'log10_A': -13.328048973421101, 'gamma': 0.4010448006880386},\n",
       " 'J1614-2230': {'log10_A': -17.266215638792296, 'gamma': 3.063796287002967},\n",
       " 'J1640+2224': {'log10_A': -16.972395593383435, 'gamma': 3.197179350033271},\n",
       " 'J1643-1224': {'log10_A': -12.269680874615307, 'gamma': 1.407076057337718},\n",
       " 'J1713+0747': {'log10_A': -13.973618730684334, 'gamma': 1.355523496888995},\n",
       " 'J1738+0333': {'log10_A': -17.10607569354696, 'gamma': 3.237362476862903},\n",
       " 'J1741+1351': {'log10_A': -16.6429791763177, 'gamma': 2.785022740240951},\n",
       " 'J1744-1134': {'log10_A': -13.92671141218984, 'gamma': 2.4300563290966313},\n",
       " 'J1747-4036': {'log10_A': -12.644164170748162, 'gamma': 3.465921278380991},\n",
       " 'J1832-0836': {'log10_A': -16.09639623196629, 'gamma': 3.0239970629248307},\n",
       " 'J1853+1303': {'log10_A': -13.444767971103019, 'gamma': 2.4369556898003717},\n",
       " 'J1903+0327': {'log10_A': -12.289429389164697, 'gamma': 1.7414195457619044},\n",
       " 'J1909-3744': {'log10_A': -14.734043825014293, 'gamma': 2.6992567853074507},\n",
       " 'J1910+1256': {'log10_A': -16.368989221046988, 'gamma': 3.352650500666976},\n",
       " 'J1911+1347': {'log10_A': -14.893487619929019, 'gamma': 3.1551671343755476},\n",
       " 'J1918-0642': {'log10_A': -15.623155222904252, 'gamma': 2.738491565272321},\n",
       " 'J1923+2515': {'log10_A': -16.811455851562414, 'gamma': 3.1117136734661344},\n",
       " 'J1944+0907': {'log10_A': -15.564039578496923, 'gamma': 2.789036450700086},\n",
       " 'J2010-1323': {'log10_A': -17.220148616414093, 'gamma': 3.1153574654775475},\n",
       " 'J2017+0603': {'log10_A': -17.034451186079888, 'gamma': 3.27095379276579},\n",
       " 'J2033+1734': {'log10_A': -16.530682168160332, 'gamma': 3.191016164227695},\n",
       " 'J2043+1711': {'log10_A': -15.536900605726817, 'gamma': 3.180210322278649},\n",
       " 'J2145-0750': {'log10_A': -12.940458124624529, 'gamma': 1.6192408838169916},\n",
       " 'J2214+3000': {'log10_A': -16.871292529040517, 'gamma': 3.1535307294384527},\n",
       " 'J2229+2643': {'log10_A': -16.95431395156818, 'gamma': 3.2914703898033575},\n",
       " 'J2234+0611': {'log10_A': -14.254358403577047, 'gamma': 3.8551787622400506},\n",
       " 'J2234+0944': {'log10_A': -15.528322272983342, 'gamma': 1.9515429882239508},\n",
       " 'J2302+4442': {'log10_A': -16.715473201659833, 'gamma': 3.2233072969292023},\n",
       " 'J2317+1439': {'log10_A': -16.18721762501211, 'gamma': 3.9452639370897957},\n",
       " 'J0125-2327': {'log10_A': -16.9, 'gamma': 3.3},\n",
       " 'J0711-6830': {'log10_A': -13.1, 'gamma': 1.2},\n",
       " 'J0900-3144': {'log10_A': -16.5, 'gamma': 3.4},\n",
       " 'J1017-7156': {'log10_A': -16.1, 'gamma': 3.2},\n",
       " 'J1045-4509': {'log10_A': -14.5, 'gamma': 1.4},\n",
       " 'J1125-6014': {'log10_A': -14.2, 'gamma': 3.9},\n",
       " 'J1446-4701': {'log10_A': -17.0, 'gamma': 3.1},\n",
       " 'J1545-4550': {'log10_A': -16.6, 'gamma': 3.3},\n",
       " 'J1603-7202': {'log10_A': -17.2, 'gamma': 2.9},\n",
       " 'J1824-2452A': {'log10_A': -13.1, 'gamma': 5.1},\n",
       " 'J1902-5105': {'log10_A': -16.1, 'gamma': 3.4},\n",
       " 'J1933-6211': {'log10_A': -16.3, 'gamma': 3.4},\n",
       " 'J2129-5721': {'log10_A': -16.6, 'gamma': 3.4},\n",
       " 'J2241-5236': {'log10_A': -14.5, 'gamma': 3.0}}"
      ]
     },
     "execution_count": 7,
     "metadata": {},
     "output_type": "execute_result"
    }
   ],
   "source": [
    "rnoise"
   ]
  },
  {
   "cell_type": "markdown",
   "id": "fcf83e4e-85ef-4b6b-8277-bf9db3680f7a",
   "metadata": {},
   "source": [
    "Following the hasasia tutorial, the following loop loads the pulsars into `enterprise.pulsar.Pulsar` class instances. This uses a pulsar timing package in the background, either `Pint` or `TEMPO2` (via the Python wrapper `libstempo`)."
   ]
  },
  {
   "cell_type": "code",
   "execution_count": 8,
   "id": "970159e6-8f04-4703-8670-bb251fd3e2e3",
   "metadata": {
    "scrolled": true
   },
   "outputs": [
    {
     "name": "stdout",
     "output_type": "stream",
     "text": [
      "PSR B1855+09 complete[tempo2Util.C:396] Warning: [MISC1] Unknown parameter in par file:  DMDATA\n",
      "[tempo2Util.C:401] Warning: [DUP1] duplicated warnings have been suppressed.\n",
      "[tempo2Util.C:396] Warning: [PAR2] Have not set a DM epoch. The period epoch will be used instead. B1855+09.par\n",
      "PSR B1953+29 complete"
     ]
    },
    {
     "name": "stderr",
     "output_type": "stream",
     "text": [
      "WARNING: Could not find pulsar distance for PSR J0023+0923. Setting value to 1 with 20% uncertainty.\n"
     ]
    },
    {
     "name": "stdout",
     "output_type": "stream",
     "text": [
      "PSR J0030+0451 complete"
     ]
    },
    {
     "name": "stderr",
     "output_type": "stream",
     "text": [
      "WARNING: Could not find pulsar distance for PSR J0125-2327. Setting value to 1 with 20% uncertainty.\n"
     ]
    },
    {
     "name": "stdout",
     "output_type": "stream",
     "text": [
      "PSR J0125-2327 complete"
     ]
    },
    {
     "name": "stderr",
     "output_type": "stream",
     "text": [
      "WARNING: Could not find pulsar distance for PSR J0340+4130. Setting value to 1 with 20% uncertainty.\n"
     ]
    },
    {
     "name": "stdout",
     "output_type": "stream",
     "text": [
      "PSR J0340+4130 complete"
     ]
    },
    {
     "name": "stderr",
     "output_type": "stream",
     "text": [
      "WARNING: Could not find pulsar distance for PSR J0406+3039. Setting value to 1 with 20% uncertainty.\n"
     ]
    },
    {
     "name": "stdout",
     "output_type": "stream",
     "text": [
      "PSR J0437-4715 complete"
     ]
    },
    {
     "name": "stderr",
     "output_type": "stream",
     "text": [
      "WARNING: Could not find pulsar distance for PSR J0509+0856. Setting value to 1 with 20% uncertainty.\n"
     ]
    },
    {
     "name": "stdout",
     "output_type": "stream",
     "text": [
      "PSR J0509+0856 complete"
     ]
    },
    {
     "name": "stderr",
     "output_type": "stream",
     "text": [
      "WARNING: Could not find pulsar distance for PSR J0557+1551. Setting value to 1 with 20% uncertainty.\n"
     ]
    },
    {
     "name": "stdout",
     "output_type": "stream",
     "text": [
      "PSR J0557+1551 complete"
     ]
    },
    {
     "name": "stderr",
     "output_type": "stream",
     "text": [
      "WARNING: Could not find pulsar distance for PSR J0605+3757. Setting value to 1 with 20% uncertainty.\n"
     ]
    },
    {
     "name": "stdout",
     "output_type": "stream",
     "text": [
      "PSR J0605+3757 complete"
     ]
    },
    {
     "name": "stderr",
     "output_type": "stream",
     "text": [
      "WARNING: Could not find pulsar distance for PSR J0610-2100. Setting value to 1 with 20% uncertainty.\n"
     ]
    },
    {
     "name": "stdout",
     "output_type": "stream",
     "text": [
      "PSR J0613-0200 complete"
     ]
    },
    {
     "name": "stderr",
     "output_type": "stream",
     "text": [
      "WARNING: Could not find pulsar distance for PSR J0614-3329. Setting value to 1 with 20% uncertainty.\n"
     ]
    },
    {
     "name": "stdout",
     "output_type": "stream",
     "text": [
      "PSR J0614-3329 complete"
     ]
    },
    {
     "name": "stderr",
     "output_type": "stream",
     "text": [
      "WARNING: Could not find pulsar distance for PSR J0636+5128. Setting value to 1 with 20% uncertainty.\n"
     ]
    },
    {
     "name": "stdout",
     "output_type": "stream",
     "text": [
      "PSR J0636+5128 complete"
     ]
    },
    {
     "name": "stderr",
     "output_type": "stream",
     "text": [
      "WARNING: Could not find pulsar distance for PSR J0636-3044. Setting value to 1 with 20% uncertainty.\n"
     ]
    },
    {
     "name": "stdout",
     "output_type": "stream",
     "text": [
      "PSR J0636-3044 complete"
     ]
    },
    {
     "name": "stderr",
     "output_type": "stream",
     "text": [
      "WARNING: Could not find pulsar distance for PSR J0645+5158. Setting value to 1 with 20% uncertainty.\n"
     ]
    },
    {
     "name": "stdout",
     "output_type": "stream",
     "text": [
      "PSR J0645+5158 complete"
     ]
    },
    {
     "name": "stderr",
     "output_type": "stream",
     "text": [
      "WARNING: Could not find pulsar distance for PSR J0709+0458. Setting value to 1 with 20% uncertainty.\n"
     ]
    },
    {
     "name": "stdout",
     "output_type": "stream",
     "text": [
      "PSR J0711-6830 complete"
     ]
    },
    {
     "name": "stderr",
     "output_type": "stream",
     "text": [
      "WARNING: Could not find pulsar distance for PSR J0740+6620. Setting value to 1 with 20% uncertainty.\n"
     ]
    },
    {
     "name": "stdout",
     "output_type": "stream",
     "text": [
      "PSR J0740+6620 complete"
     ]
    },
    {
     "name": "stderr",
     "output_type": "stream",
     "text": [
      "WARNING: Could not find pulsar distance for PSR J0751+1807. Setting value to 1 with 20% uncertainty.\n"
     ]
    },
    {
     "name": "stdout",
     "output_type": "stream",
     "text": [
      "PSR J0751+1807 complete"
     ]
    },
    {
     "name": "stderr",
     "output_type": "stream",
     "text": [
      "WARNING: Could not find pulsar distance for PSR J0900-3144. Setting value to 1 with 20% uncertainty.\n"
     ]
    },
    {
     "name": "stdout",
     "output_type": "stream",
     "text": [
      "PSR J0900-3144 complete"
     ]
    },
    {
     "name": "stderr",
     "output_type": "stream",
     "text": [
      "WARNING: Could not find pulsar distance for PSR J0931-1902. Setting value to 1 with 20% uncertainty.\n"
     ]
    },
    {
     "name": "stdout",
     "output_type": "stream",
     "text": [
      "PSR J0931-1902 complete"
     ]
    },
    {
     "name": "stderr",
     "output_type": "stream",
     "text": [
      "WARNING: Could not find pulsar distance for PSR J0955-6150. Setting value to 1 with 20% uncertainty.\n"
     ]
    },
    {
     "name": "stdout",
     "output_type": "stream",
     "text": [
      "PSR J1012+5307 complete"
     ]
    },
    {
     "name": "stderr",
     "output_type": "stream",
     "text": [
      "WARNING: Could not find pulsar distance for PSR J1012-4235. Setting value to 1 with 20% uncertainty.\n"
     ]
    },
    {
     "name": "stdout",
     "output_type": "stream",
     "text": [
      "PSR J1012-4235 complete"
     ]
    },
    {
     "name": "stderr",
     "output_type": "stream",
     "text": [
      "WARNING: Could not find pulsar distance for PSR J1017-7156. Setting value to 1 with 20% uncertainty.\n"
     ]
    },
    {
     "name": "stdout",
     "output_type": "stream",
     "text": [
      "PSR J1024-0719 complete"
     ]
    },
    {
     "name": "stderr",
     "output_type": "stream",
     "text": [
      "WARNING: Could not find pulsar distance for PSR J1036-8317. Setting value to 1 with 20% uncertainty.\n"
     ]
    },
    {
     "name": "stdout",
     "output_type": "stream",
     "text": [
      "PSR J1045-4509 complete"
     ]
    },
    {
     "name": "stderr",
     "output_type": "stream",
     "text": [
      "WARNING: Could not find pulsar distance for PSR J1101-6424. Setting value to 1 with 20% uncertainty.\n"
     ]
    },
    {
     "name": "stdout",
     "output_type": "stream",
     "text": [
      "PSR J1101-6424 complete"
     ]
    },
    {
     "name": "stderr",
     "output_type": "stream",
     "text": [
      "WARNING: Could not find pulsar distance for PSR J1103-5403. Setting value to 1 with 20% uncertainty.\n"
     ]
    },
    {
     "name": "stdout",
     "output_type": "stream",
     "text": [
      "PSR J1103-5403 complete"
     ]
    },
    {
     "name": "stderr",
     "output_type": "stream",
     "text": [
      "WARNING: Could not find pulsar distance for PSR J1125+7819. Setting value to 1 with 20% uncertainty.\n"
     ]
    },
    {
     "name": "stdout",
     "output_type": "stream",
     "text": [
      "PSR J1125+7819 complete"
     ]
    },
    {
     "name": "stderr",
     "output_type": "stream",
     "text": [
      "WARNING: Could not find pulsar distance for PSR J1125-5825. Setting value to 1 with 20% uncertainty.\n"
     ]
    },
    {
     "name": "stdout",
     "output_type": "stream",
     "text": [
      "PSR J1125-5825 complete"
     ]
    },
    {
     "name": "stderr",
     "output_type": "stream",
     "text": [
      "WARNING: Could not find pulsar distance for PSR J1125-6014. Setting value to 1 with 20% uncertainty.\n"
     ]
    },
    {
     "name": "stdout",
     "output_type": "stream",
     "text": [
      "PSR J1125-6014 complete"
     ]
    },
    {
     "name": "stderr",
     "output_type": "stream",
     "text": [
      "WARNING: Could not find pulsar distance for PSR J1216-6410. Setting value to 1 with 20% uncertainty.\n"
     ]
    },
    {
     "name": "stdout",
     "output_type": "stream",
     "text": [
      "PSR J1216-6410 complete"
     ]
    },
    {
     "name": "stderr",
     "output_type": "stream",
     "text": [
      "WARNING: Could not find pulsar distance for PSR J1312+0051. Setting value to 1 with 20% uncertainty.\n"
     ]
    },
    {
     "name": "stdout",
     "output_type": "stream",
     "text": [
      "PSR J1312+0051 complete"
     ]
    },
    {
     "name": "stderr",
     "output_type": "stream",
     "text": [
      "WARNING: Could not find pulsar distance for PSR J1327-0755. Setting value to 1 with 20% uncertainty.\n"
     ]
    },
    {
     "name": "stdout",
     "output_type": "stream",
     "text": [
      "PSR J1327-0755 complete"
     ]
    },
    {
     "name": "stderr",
     "output_type": "stream",
     "text": [
      "WARNING: Could not find pulsar distance for PSR J1421-4409. Setting value to 1 with 20% uncertainty.\n"
     ]
    },
    {
     "name": "stdout",
     "output_type": "stream",
     "text": [
      "PSR J1421-4409 complete"
     ]
    },
    {
     "name": "stderr",
     "output_type": "stream",
     "text": [
      "WARNING: Could not find pulsar distance for PSR J1431-5740. Setting value to 1 with 20% uncertainty.\n"
     ]
    },
    {
     "name": "stdout",
     "output_type": "stream",
     "text": [
      "PSR J1431-5740 complete"
     ]
    },
    {
     "name": "stderr",
     "output_type": "stream",
     "text": [
      "WARNING: Could not find pulsar distance for PSR J1435-6100. Setting value to 1 with 20% uncertainty.\n"
     ]
    },
    {
     "name": "stdout",
     "output_type": "stream",
     "text": [
      "PSR J1435-6100 complete"
     ]
    },
    {
     "name": "stderr",
     "output_type": "stream",
     "text": [
      "WARNING: Could not find pulsar distance for PSR J1446-4701. Setting value to 1 with 20% uncertainty.\n"
     ]
    },
    {
     "name": "stdout",
     "output_type": "stream",
     "text": [
      "PSR J1446-4701 complete"
     ]
    },
    {
     "name": "stderr",
     "output_type": "stream",
     "text": [
      "WARNING: Could not find pulsar distance for PSR J1453+1902. Setting value to 1 with 20% uncertainty.\n"
     ]
    },
    {
     "name": "stdout",
     "output_type": "stream",
     "text": [
      "PSR J1455-3330 complete"
     ]
    },
    {
     "name": "stderr",
     "output_type": "stream",
     "text": [
      "WARNING: Could not find pulsar distance for PSR J1525-5545. Setting value to 1 with 20% uncertainty.\n"
     ]
    },
    {
     "name": "stdout",
     "output_type": "stream",
     "text": [
      "PSR J1525-5545 complete"
     ]
    },
    {
     "name": "stderr",
     "output_type": "stream",
     "text": [
      "WARNING: Could not find pulsar distance for PSR J1543-5149. Setting value to 1 with 20% uncertainty.\n"
     ]
    },
    {
     "name": "stdout",
     "output_type": "stream",
     "text": [
      "PSR J1543-5149 complete"
     ]
    },
    {
     "name": "stderr",
     "output_type": "stream",
     "text": [
      "WARNING: Could not find pulsar distance for PSR J1545-4550. Setting value to 1 with 20% uncertainty.\n"
     ]
    },
    {
     "name": "stdout",
     "output_type": "stream",
     "text": [
      "PSR J1545-4550 complete"
     ]
    },
    {
     "name": "stderr",
     "output_type": "stream",
     "text": [
      "WARNING: Could not find pulsar distance for PSR J1547-5709. Setting value to 1 with 20% uncertainty.\n"
     ]
    },
    {
     "name": "stdout",
     "output_type": "stream",
     "text": [
      "PSR J1603-7202 complete"
     ]
    },
    {
     "name": "stderr",
     "output_type": "stream",
     "text": [
      "WARNING: Could not find pulsar distance for PSR J1614-2230. Setting value to 1 with 20% uncertainty.\n"
     ]
    },
    {
     "name": "stdout",
     "output_type": "stream",
     "text": [
      "PSR J1614-2230 complete"
     ]
    },
    {
     "name": "stderr",
     "output_type": "stream",
     "text": [
      "WARNING: Could not find pulsar distance for PSR J1629-6902. Setting value to 1 with 20% uncertainty.\n"
     ]
    },
    {
     "name": "stdout",
     "output_type": "stream",
     "text": [
      "PSR J1629-6902 complete"
     ]
    },
    {
     "name": "stderr",
     "output_type": "stream",
     "text": [
      "WARNING: Could not find pulsar distance for PSR J1630+3734. Setting value to 1 with 20% uncertainty.\n"
     ]
    },
    {
     "name": "stdout",
     "output_type": "stream",
     "text": [
      "PSR J1643-1224 complete"
     ]
    },
    {
     "name": "stderr",
     "output_type": "stream",
     "text": [
      "WARNING: Could not find pulsar distance for PSR J1652-4838. Setting value to 1 with 20% uncertainty.\n"
     ]
    },
    {
     "name": "stdout",
     "output_type": "stream",
     "text": [
      "PSR J1652-4838 complete"
     ]
    },
    {
     "name": "stderr",
     "output_type": "stream",
     "text": [
      "WARNING: Could not find pulsar distance for PSR J1653-2054. Setting value to 1 with 20% uncertainty.\n"
     ]
    },
    {
     "name": "stdout",
     "output_type": "stream",
     "text": [
      "PSR J1653-2054 complete"
     ]
    },
    {
     "name": "stderr",
     "output_type": "stream",
     "text": [
      "WARNING: Could not find pulsar distance for PSR J1658-5324. Setting value to 1 with 20% uncertainty.\n"
     ]
    },
    {
     "name": "stdout",
     "output_type": "stream",
     "text": [
      "PSR J1658-5324 complete"
     ]
    },
    {
     "name": "stderr",
     "output_type": "stream",
     "text": [
      "WARNING: Could not find pulsar distance for PSR J1705-1903. Setting value to 1 with 20% uncertainty.\n"
     ]
    },
    {
     "name": "stdout",
     "output_type": "stream",
     "text": [
      "PSR J1705-1903 complete"
     ]
    },
    {
     "name": "stderr",
     "output_type": "stream",
     "text": [
      "WARNING: Could not find pulsar distance for PSR J1708-3506. Setting value to 1 with 20% uncertainty.\n"
     ]
    },
    {
     "name": "stdout",
     "output_type": "stream",
     "text": [
      "PSR J1713+0747 complete"
     ]
    },
    {
     "name": "stderr",
     "output_type": "stream",
     "text": [
      "WARNING: Could not find pulsar distance for PSR J1719-1438. Setting value to 1 with 20% uncertainty.\n"
     ]
    },
    {
     "name": "stdout",
     "output_type": "stream",
     "text": [
      "PSR J1719-1438 complete"
     ]
    },
    {
     "name": "stderr",
     "output_type": "stream",
     "text": [
      "WARNING: Could not find pulsar distance for PSR J1721-2457. Setting value to 1 with 20% uncertainty.\n"
     ]
    },
    {
     "name": "stdout",
     "output_type": "stream",
     "text": [
      "PSR J1732-5049 complete"
     ]
    },
    {
     "name": "stderr",
     "output_type": "stream",
     "text": [
      "WARNING: Could not find pulsar distance for PSR J1737-0811. Setting value to 1 with 20% uncertainty.\n"
     ]
    },
    {
     "name": "stdout",
     "output_type": "stream",
     "text": [
      "PSR J1737-0811 complete"
     ]
    },
    {
     "name": "stderr",
     "output_type": "stream",
     "text": [
      "WARNING: Could not find pulsar distance for PSR J1738+0333. Setting value to 1 with 20% uncertainty.\n"
     ]
    },
    {
     "name": "stdout",
     "output_type": "stream",
     "text": [
      "PSR J1738+0333 complete"
     ]
    },
    {
     "name": "stderr",
     "output_type": "stream",
     "text": [
      "WARNING: Could not find pulsar distance for PSR J1741+1351. Setting value to 1 with 20% uncertainty.\n"
     ]
    },
    {
     "name": "stdout",
     "output_type": "stream",
     "text": [
      "PSR J1744-1134 complete"
     ]
    },
    {
     "name": "stderr",
     "output_type": "stream",
     "text": [
      "WARNING: Could not find pulsar distance for PSR J1745+1017. Setting value to 1 with 20% uncertainty.\n"
     ]
    },
    {
     "name": "stdout",
     "output_type": "stream",
     "text": [
      "PSR J1745+1017 complete"
     ]
    },
    {
     "name": "stderr",
     "output_type": "stream",
     "text": [
      "WARNING: Could not find pulsar distance for PSR J1747-4036. Setting value to 1 with 20% uncertainty.\n"
     ]
    },
    {
     "name": "stdout",
     "output_type": "stream",
     "text": [
      "PSR J1747-4036 complete"
     ]
    },
    {
     "name": "stderr",
     "output_type": "stream",
     "text": [
      "WARNING: Could not find pulsar distance for PSR J1751-2857. Setting value to 1 with 20% uncertainty.\n"
     ]
    },
    {
     "name": "stdout",
     "output_type": "stream",
     "text": [
      "PSR J1751-2857 complete"
     ]
    },
    {
     "name": "stderr",
     "output_type": "stream",
     "text": [
      "WARNING: Could not find pulsar distance for PSR J1756-2251. Setting value to 1 with 20% uncertainty.\n"
     ]
    },
    {
     "name": "stdout",
     "output_type": "stream",
     "text": [
      "PSR J1756-2251 complete"
     ]
    },
    {
     "name": "stderr",
     "output_type": "stream",
     "text": [
      "WARNING: Could not find pulsar distance for PSR J1757-5322. Setting value to 1 with 20% uncertainty.\n"
     ]
    },
    {
     "name": "stdout",
     "output_type": "stream",
     "text": [
      "PSR J1757-5322 complete"
     ]
    },
    {
     "name": "stderr",
     "output_type": "stream",
     "text": [
      "WARNING: Could not find pulsar distance for PSR J1801-1417. Setting value to 1 with 20% uncertainty.\n"
     ]
    },
    {
     "name": "stdout",
     "output_type": "stream",
     "text": [
      "PSR J1801-1417 complete"
     ]
    },
    {
     "name": "stderr",
     "output_type": "stream",
     "text": [
      "WARNING: Could not find pulsar distance for PSR J1802-2124. Setting value to 1 with 20% uncertainty.\n"
     ]
    },
    {
     "name": "stdout",
     "output_type": "stream",
     "text": [
      "PSR J1802-2124 complete"
     ]
    },
    {
     "name": "stderr",
     "output_type": "stream",
     "text": [
      "WARNING: Could not find pulsar distance for PSR J1804-2717. Setting value to 1 with 20% uncertainty.\n"
     ]
    },
    {
     "name": "stdout",
     "output_type": "stream",
     "text": [
      "PSR J1804-2717 complete"
     ]
    },
    {
     "name": "stderr",
     "output_type": "stream",
     "text": [
      "WARNING: Could not find pulsar distance for PSR J1811-2405. Setting value to 1 with 20% uncertainty.\n"
     ]
    },
    {
     "name": "stdout",
     "output_type": "stream",
     "text": [
      "PSR J1824-2452A complete"
     ]
    },
    {
     "name": "stderr",
     "output_type": "stream",
     "text": [
      "WARNING: Could not find pulsar distance for PSR J1825-0319. Setting value to 1 with 20% uncertainty.\n"
     ]
    },
    {
     "name": "stdout",
     "output_type": "stream",
     "text": [
      "PSR J1825-0319 complete"
     ]
    },
    {
     "name": "stderr",
     "output_type": "stream",
     "text": [
      "WARNING: Could not find pulsar distance for PSR J1832-0836. Setting value to 1 with 20% uncertainty.\n"
     ]
    },
    {
     "name": "stdout",
     "output_type": "stream",
     "text": [
      "PSR J1832-0836 complete"
     ]
    },
    {
     "name": "stderr",
     "output_type": "stream",
     "text": [
      "WARNING: Could not find pulsar distance for PSR J1843-1113. Setting value to 1 with 20% uncertainty.\n"
     ]
    },
    {
     "name": "stdout",
     "output_type": "stream",
     "text": [
      "PSR J1843-1113 complete"
     ]
    },
    {
     "name": "stderr",
     "output_type": "stream",
     "text": [
      "WARNING: Could not find pulsar distance for PSR J1853+1303. Setting value to 1 with 20% uncertainty.\n"
     ]
    },
    {
     "name": "stdout",
     "output_type": "stream",
     "text": [
      "PSR J1853+1303 complete"
     ]
    },
    {
     "name": "stderr",
     "output_type": "stream",
     "text": [
      "WARNING: Could not find pulsar distance for PSR J1902-5105. Setting value to 1 with 20% uncertainty.\n"
     ]
    },
    {
     "name": "stdout",
     "output_type": "stream",
     "text": [
      "PSR J1902-5105 complete"
     ]
    },
    {
     "name": "stderr",
     "output_type": "stream",
     "text": [
      "WARNING: Could not find pulsar distance for PSR J1903+0327. Setting value to 1 with 20% uncertainty.\n"
     ]
    },
    {
     "name": "stdout",
     "output_type": "stream",
     "text": [
      "PSR J1903+0327 complete"
     ]
    },
    {
     "name": "stderr",
     "output_type": "stream",
     "text": [
      "WARNING: Could not find pulsar distance for PSR J1903-7051. Setting value to 1 with 20% uncertainty.\n"
     ]
    },
    {
     "name": "stdout",
     "output_type": "stream",
     "text": [
      "PSR J1910+1256 complete"
     ]
    },
    {
     "name": "stderr",
     "output_type": "stream",
     "text": [
      "WARNING: Could not find pulsar distance for PSR J1911+1347. Setting value to 1 with 20% uncertainty.\n"
     ]
    },
    {
     "name": "stdout",
     "output_type": "stream",
     "text": [
      "PSR J1918-0642 complete"
     ]
    },
    {
     "name": "stderr",
     "output_type": "stream",
     "text": [
      "WARNING: Could not find pulsar distance for PSR J1923+2515. Setting value to 1 with 20% uncertainty.\n"
     ]
    },
    {
     "name": "stdout",
     "output_type": "stream",
     "text": [
      "PSR J1923+2515 complete"
     ]
    },
    {
     "name": "stderr",
     "output_type": "stream",
     "text": [
      "WARNING: Could not find pulsar distance for PSR J1933-6211. Setting value to 1 with 20% uncertainty.\n"
     ]
    },
    {
     "name": "stdout",
     "output_type": "stream",
     "text": [
      "PSR J1933-6211 complete"
     ]
    },
    {
     "name": "stderr",
     "output_type": "stream",
     "text": [
      "WARNING: Could not find pulsar distance for PSR J1944+0907. Setting value to 1 with 20% uncertainty.\n"
     ]
    },
    {
     "name": "stdout",
     "output_type": "stream",
     "text": [
      "PSR J1944+0907 complete"
     ]
    },
    {
     "name": "stderr",
     "output_type": "stream",
     "text": [
      "WARNING: Could not find pulsar distance for PSR J1946+3417. Setting value to 1 with 20% uncertainty.\n"
     ]
    },
    {
     "name": "stdout",
     "output_type": "stream",
     "text": [
      "PSR J1946+3417 complete"
     ]
    },
    {
     "name": "stderr",
     "output_type": "stream",
     "text": [
      "WARNING: Could not find pulsar distance for PSR J1946-5403. Setting value to 1 with 20% uncertainty.\n"
     ]
    },
    {
     "name": "stdout",
     "output_type": "stream",
     "text": [
      "PSR J1946-5403 complete"
     ]
    },
    {
     "name": "stderr",
     "output_type": "stream",
     "text": [
      "WARNING: Could not find pulsar distance for PSR J2010-1323. Setting value to 1 with 20% uncertainty.\n"
     ]
    },
    {
     "name": "stdout",
     "output_type": "stream",
     "text": [
      "PSR J2010-1323 complete"
     ]
    },
    {
     "name": "stderr",
     "output_type": "stream",
     "text": [
      "WARNING: Could not find pulsar distance for PSR J2017+0603. Setting value to 1 with 20% uncertainty.\n"
     ]
    },
    {
     "name": "stdout",
     "output_type": "stream",
     "text": [
      "PSR J2017+0603 complete"
     ]
    },
    {
     "name": "stderr",
     "output_type": "stream",
     "text": [
      "WARNING: Could not find pulsar distance for PSR J2033+1734. Setting value to 1 with 20% uncertainty.\n"
     ]
    },
    {
     "name": "stdout",
     "output_type": "stream",
     "text": [
      "PSR J2033+1734 complete"
     ]
    },
    {
     "name": "stderr",
     "output_type": "stream",
     "text": [
      "WARNING: Could not find pulsar distance for PSR J2039-3616. Setting value to 1 with 20% uncertainty.\n"
     ]
    },
    {
     "name": "stdout",
     "output_type": "stream",
     "text": [
      "PSR J2039-3616 complete"
     ]
    },
    {
     "name": "stderr",
     "output_type": "stream",
     "text": [
      "WARNING: Could not find pulsar distance for PSR J2043+1711. Setting value to 1 with 20% uncertainty.\n"
     ]
    },
    {
     "name": "stdout",
     "output_type": "stream",
     "text": [
      "PSR J2145-0750 complete"
     ]
    },
    {
     "name": "stderr",
     "output_type": "stream",
     "text": [
      "WARNING: Could not find pulsar distance for PSR J2150-0326. Setting value to 1 with 20% uncertainty.\n"
     ]
    },
    {
     "name": "stdout",
     "output_type": "stream",
     "text": [
      "PSR J2150-0326 complete"
     ]
    },
    {
     "name": "stderr",
     "output_type": "stream",
     "text": [
      "WARNING: Could not find pulsar distance for PSR J2214+3000. Setting value to 1 with 20% uncertainty.\n"
     ]
    },
    {
     "name": "stdout",
     "output_type": "stream",
     "text": [
      "PSR J2214+3000 complete"
     ]
    },
    {
     "name": "stderr",
     "output_type": "stream",
     "text": [
      "WARNING: Could not find pulsar distance for PSR J2222-0137. Setting value to 1 with 20% uncertainty.\n"
     ]
    },
    {
     "name": "stdout",
     "output_type": "stream",
     "text": [
      "PSR J2222-0137 complete"
     ]
    },
    {
     "name": "stderr",
     "output_type": "stream",
     "text": [
      "WARNING: Could not find pulsar distance for PSR J2229+2643. Setting value to 1 with 20% uncertainty.\n"
     ]
    },
    {
     "name": "stdout",
     "output_type": "stream",
     "text": [
      "PSR J2229+2643 complete"
     ]
    },
    {
     "name": "stderr",
     "output_type": "stream",
     "text": [
      "WARNING: Could not find pulsar distance for PSR J2234+0611. Setting value to 1 with 20% uncertainty.\n"
     ]
    },
    {
     "name": "stdout",
     "output_type": "stream",
     "text": [
      "PSR J2234+0611 complete"
     ]
    },
    {
     "name": "stderr",
     "output_type": "stream",
     "text": [
      "WARNING: Could not find pulsar distance for PSR J2234+0944. Setting value to 1 with 20% uncertainty.\n"
     ]
    },
    {
     "name": "stdout",
     "output_type": "stream",
     "text": [
      "PSR J2234+0944 complete"
     ]
    },
    {
     "name": "stderr",
     "output_type": "stream",
     "text": [
      "WARNING: Could not find pulsar distance for PSR J2241-5236. Setting value to 1 with 20% uncertainty.\n"
     ]
    },
    {
     "name": "stdout",
     "output_type": "stream",
     "text": [
      "PSR J2241-5236 complete"
     ]
    },
    {
     "name": "stderr",
     "output_type": "stream",
     "text": [
      "WARNING: Could not find pulsar distance for PSR J2302+4442. Setting value to 1 with 20% uncertainty.\n"
     ]
    },
    {
     "name": "stdout",
     "output_type": "stream",
     "text": [
      "PSR J2317+1439 complete"
     ]
    },
    {
     "name": "stderr",
     "output_type": "stream",
     "text": [
      "WARNING: Could not find pulsar distance for PSR J2322+2057. Setting value to 1 with 20% uncertainty.\n"
     ]
    },
    {
     "name": "stdout",
     "output_type": "stream",
     "text": [
      "PSR J2322+2057 complete"
     ]
    },
    {
     "name": "stderr",
     "output_type": "stream",
     "text": [
      "WARNING: Could not find pulsar distance for PSR J2322-2650. Setting value to 1 with 20% uncertainty.\n"
     ]
    },
    {
     "name": "stdout",
     "output_type": "stream",
     "text": [
      "PSR J2322-2650 complete"
     ]
    }
   ],
   "source": [
    "ePsrs = []\n",
    "for par,tim in zip(pars,tims):\n",
    "    ePsr = ePulsar(par, tim,  ephem='DE436')\n",
    "    ePsrs.append(ePsr)\n",
    "    print('\\rPSR {0} complete'.format(ePsr.name),end='',flush=True)"
   ]
  },
  {
   "cell_type": "markdown",
   "id": "eebe4618-05e0-484b-85b0-91e9c1bc6d54",
   "metadata": {},
   "source": [
    "Get total timespan"
   ]
  },
  {
   "cell_type": "code",
   "execution_count": 11,
   "id": "ad89e36b-87db-4327-a15b-bceb7fb2f9ed",
   "metadata": {},
   "outputs": [],
   "source": [
    "Tspan = hsen.get_Tspan(ePsrs)"
   ]
  },
  {
   "cell_type": "code",
   "execution_count": 12,
   "id": "90a22292-4d3c-42be-ad82-9c1c04e769e7",
   "metadata": {},
   "outputs": [
    {
     "data": {
      "text/plain": [
       "22.165536931752282"
      ]
     },
     "execution_count": 12,
     "metadata": {},
     "output_type": "execute_result"
    }
   ],
   "source": [
    "Tspan/(3600*24*365) ## in yrs"
   ]
  },
  {
   "cell_type": "markdown",
   "id": "26c801b1-b70b-481b-b699-38b9209db4fe",
   "metadata": {},
   "source": [
    "Set the frequency array across which to calculate the red noise and sensitivity curves."
   ]
  },
  {
   "cell_type": "code",
   "execution_count": 13,
   "id": "1edc383a-bf88-4d22-a94e-0716a4016984",
   "metadata": {},
   "outputs": [],
   "source": [
    "fyr = 1/(365.25*24*3600)\n",
    "freqs = np.logspace(np.log10(1/(5*Tspan)),np.log10(2e-7),600)"
   ]
  },
  {
   "cell_type": "code",
   "execution_count": 14,
   "id": "fe20e5c1-701f-45d9-a413-50cb7f9611f8",
   "metadata": {},
   "outputs": [],
   "source": [
    "## dapting this from hasasia. With efac=1.0, and equad/ecorr set to 0, this correlation matrix should just be diagonal in efac**2\n",
    "## because this dataset has no detailed treatment of individual observatories, we ignore all the backend-specificity of the original code\n",
    "def make_corr(psr):\n",
    "    N = psr.toaerrs.size\n",
    "    corr = np.zeros((N,N))\n",
    "\n",
    "    sigma_sqr = np.zeros(N)\n",
    "\n",
    "    efac = 1.0\n",
    "    sigma_sqr = efac**2 * psr.toaerrs**2\n",
    "    \n",
    "    corr = np.diag(sigma_sqr)\n",
    "    return corr"
   ]
  },
  {
   "cell_type": "code",
   "execution_count": 15,
   "id": "43ef8ba6-3d53-4d51-b8d4-1f082c17f06a",
   "metadata": {},
   "outputs": [
    {
     "name": "stdout",
     "output_type": "stream",
     "text": [
      "PSR J2322-2650 completee"
     ]
    }
   ],
   "source": [
    "psrs = []\n",
    "thin = 10 \n",
    "for ePsr in ePsrs:\n",
    "    corr = make_corr(ePsr)[::thin,::thin]\n",
    "    plaw = hsen.red_noise_powerlaw(A=9e-16, gamma=13/3., freqs=freqs)\n",
    "    if ePsr.name in rnoise.keys():\n",
    "        logAmp, gam = rnoise[ePsr.name]['log10_A'], rnoise[ePsr.name]['gamma']\n",
    "        plaw += hsen.red_noise_powerlaw(A=10**logAmp, gamma=gam, freqs=freqs)\n",
    "        \n",
    "    corr += hsen.corr_from_psd(freqs=freqs, psd=plaw,\n",
    "                               toas=ePsr.toas[::thin])\n",
    "    psr = hsen.Pulsar(toas=ePsr.toas[::thin],\n",
    "                      toaerrs=ePsr.toaerrs[::thin],\n",
    "                      phi=ePsr.phi,theta=ePsr.theta, \n",
    "                      N=corr, designmatrix=ePsr.Mmat[::thin,:])\n",
    "    psr.name = ePsr.name\n",
    "    psrs.append(psr)\n",
    "    # del ePsr\n",
    "    print('\\rPSR {0} complete'.format(psr.name),end='',flush=True)"
   ]
  },
  {
   "cell_type": "markdown",
   "id": "68a32882-57f3-48df-b351-75085512fa95",
   "metadata": {},
   "source": [
    "Instantiate a `hasasia.Spectrum` class instance for each pulsar:"
   ]
  },
  {
   "cell_type": "code",
   "execution_count": 18,
   "id": "214682a3-f729-43eb-8fd9-924a21e814af",
   "metadata": {},
   "outputs": [
    {
     "name": "stdout",
     "output_type": "stream",
     "text": [
      "PSR J2322-2650 completee"
     ]
    }
   ],
   "source": [
    "specs = []\n",
    "for p in psrs:\n",
    "    sp = hsen.Spectrum(p, freqs=freqs)\n",
    "    _ = sp.NcalInv\n",
    "    specs.append(sp)\n",
    "    print('\\rPSR {0} complete'.format(p.name),end='',flush=True)"
   ]
  },
  {
   "cell_type": "markdown",
   "id": "16a2f3a4-fa45-4c4a-8051-e146949028e7",
   "metadata": {},
   "source": [
    "Testing the full array sensitivity curve for a deterministic signal"
   ]
  },
  {
   "cell_type": "code",
   "execution_count": 23,
   "id": "e948295b-df4d-4404-9015-d8514f732e3d",
   "metadata": {},
   "outputs": [],
   "source": [
    "dr3like_dsc = hsen.DeterSensitivityCurve(specs)"
   ]
  },
  {
   "cell_type": "code",
   "execution_count": 28,
   "id": "0d843bc3-49cb-4af4-9037-7ce6027ef619",
   "metadata": {},
   "outputs": [
    {
     "data": {
      "image/png": "[encoded data removed]",
      "text/plain": [
       "<Figure size 640x480 with 1 Axes>"
      ]
     },
     "metadata": {},
     "output_type": "display_data"
    }
   ],
   "source": [
    "plt.loglog(dr3like_dsc.freqs,dr3like_dsc.h_c,c='teal')\n",
    "plt.xlabel('Frequency [Hz]')\n",
    "plt.ylabel('Characteristic Strain, $h_c$')\n",
    "plt.title('DR3-Like Deterministic Sensitivity Curve')\n",
    "plt.grid(which='both')\n",
    "# plt.ylim(1e-15,9e-12)\n",
    "# plt.legend()\n",
    "plt.show()"
   ]
  },
  {
   "cell_type": "markdown",
   "id": "b43c5726-e7f5-485d-b7bd-a7576d56dc22",
   "metadata": {},
   "source": [
    "Now some individual pulsar sensitivity curves, as that is what we actually need to use:"
   ]
  },
  {
   "cell_type": "code",
   "execution_count": 32,
   "id": "1705f021-5d25-405c-9dc3-999989133880",
   "metadata": {},
   "outputs": [
    {
     "data": {
      "image/png": "[encoded data removed]",
      "text/plain": [
       "<Figure size 1500x4500 with 6 Axes>"
      ]
     },
     "metadata": {},
     "output_type": "display_data"
    }
   ],
   "source": [
    "fig=plt.figure(figsize=[15,45])\n",
    "j = 1\n",
    "names = ['B1937+21','J0340+4130','J1024-0719',\n",
    "         'J1713+0747','J1853+1303','J1909-3744',]\n",
    "for sp,p in zip(specs,psrs):\n",
    "    if p.name in names:\n",
    "        dsc_i = hsen.DeterSensitivityCurve([sp])\n",
    "        fig.add_subplot(12,3,j)\n",
    "        plt.ylim(2e-15,2e-10)\n",
    "        plt.loglog(dsc_i.freqs,dsc_i.h_c, color='teal')\n",
    "        plt.xlabel('Frequency [Hz]')\n",
    "        plt.ylabel('Characteristic Strain, $h_c$')\n",
    "        plt.title(p.name)\n",
    "        j+=1\n",
    "fig.tight_layout()\n",
    "plt.show()\n",
    "plt.close()"
   ]
  },
  {
   "cell_type": "markdown",
   "id": "490a9645-3dc8-4ef8-bb3e-ab35b2121d2f",
   "metadata": {},
   "source": [
    "Test: the single-pulsar SNR for a monochromatic signal."
   ]
  },
  {
   "cell_type": "code",
   "execution_count": 35,
   "id": "10490eb0-0f33-4d87-877c-ac96c9119c01",
   "metadata": {},
   "outputs": [],
   "source": [
    "## define the sky\n",
    "NSIDE = 32\n",
    "NPIX = hp.nside2npix(NSIDE)\n",
    "IPIX = np.arange(NPIX)\n",
    "theta_gw, phi_gw = hp.pix2ang(nside=NSIDE,ipix=IPIX)"
   ]
  },
  {
   "cell_type": "code",
   "execution_count": null,
   "id": "5b074233-9381-4257-8a0b-9f7df5c7e833",
   "metadata": {},
   "outputs": [],
   "source": []
  },
  {
   "cell_type": "code",
   "execution_count": null,
   "id": "5b1f83f8-7733-4115-bb01-548ff839d190",
   "metadata": {},
   "outputs": [],
   "source": []
  },
  {
   "cell_type": "markdown",
   "id": "f5070e38-471e-4d62-8043-987c5cb23ea6",
   "metadata": {},
   "source": [
    "Now onto considering the array SNR. We want the combined SNR across the array, added in quadrature, from the PTA echo. This is realized as a set of "
   ]
  },
  {
   "cell_type": "code",
   "execution_count": null,
   "id": "d99cb3c1-2f98-473b-aa8b-3fa6cf1a48ad",
   "metadata": {},
   "outputs": [],
   "source": []
  },
  {
   "cell_type": "code",
   "execution_count": null,
   "id": "48717c6b-a8f4-4987-8453-cbc7fc49a40e",
   "metadata": {},
   "outputs": [],
   "source": []
  },
  {
   "cell_type": "code",
   "execution_count": null,
   "id": "61bf9a36-0469-4223-b85c-1a6dca40d0ab",
   "metadata": {},
   "outputs": [],
   "source": []
  },
  {
   "cell_type": "code",
   "execution_count": null,
   "id": "9d417d75-5853-419b-a1ca-899e7b24243c",
   "metadata": {},
   "outputs": [],
   "source": []
  },
  {
   "cell_type": "code",
   "execution_count": null,
   "id": "b3da5977-2b51-4dc0-b3c3-379f35c60aa6",
   "metadata": {},
   "outputs": [],
   "source": []
  },
  {
   "cell_type": "code",
   "execution_count": null,
   "id": "f66f22be-6fe8-4e5d-ad2f-e6b884b632a9",
   "metadata": {},
   "outputs": [],
   "source": []
  },
  {
   "cell_type": "code",
   "execution_count": null,
   "id": "91285ff7-4867-4d64-9a7b-b4905b8bef94",
   "metadata": {},
   "outputs": [],
   "source": []
  }
 ],
 "metadata": {
  "kernelspec": {
   "display_name": "gwenv-1",
   "language": "python",
   "name": "gwenv-1"
  },
  "language_info": {
   "codemirror_mode": {
    "name": "ipython",
    "version": 3
   },
   "file_extension": ".py",
   "mimetype": "text/x-python",
   "name": "python",
   "nbconvert_exporter": "python",
   "pygments_lexer": "ipython3",
   "version": "3.12.0"
  }
 },
 "nbformat": 4,
 "nbformat_minor": 5
}
